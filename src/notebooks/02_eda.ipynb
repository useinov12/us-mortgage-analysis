{
 "cells": [
  {
   "cell_type": "code",
   "execution_count": 1,
   "metadata": {},
   "outputs": [
    {
     "name": "stdout",
     "output_type": "stream",
     "text": [
      "Number of duplicate rows found: 0\n",
      "No duplicate rows found in the first 1000 rows.\n"
     ]
    }
   ],
   "source": [
    "import pandas as pd\n",
    "\n",
    "# Define the path to the cleaned data\n",
    "processed_file_path = '../../data/processed_data.csv'\n",
    "\n",
    "# Load the first 1000 rows of the processed file\n",
    "df_processed = pd.read_csv(processed_file_path, nrows=10000)\n",
    "\n",
    "# Check for duplicates based on all columns\n",
    "duplicate_rows = df_processed[df_processed.duplicated()]\n",
    "\n",
    "# Output the number of duplicate rows found\n",
    "print(f\"Number of duplicate rows found: {duplicate_rows.shape[0]}\")\n",
    "\n",
    "# Display the duplicate rows, if any\n",
    "if not duplicate_rows.empty:\n",
    "    print(\"Duplicate rows found:\")\n",
    "    print(duplicate_rows)\n",
    "else:\n",
    "    print(\"No duplicate rows found in the first 1000 rows.\")\n"
   ]
  },
  {
   "cell_type": "code",
   "execution_count": null,
   "metadata": {},
   "outputs": [],
   "source": []
  }
 ],
 "metadata": {
  "kernelspec": {
   "display_name": "Python 3",
   "language": "python",
   "name": "python3"
  },
  "language_info": {
   "codemirror_mode": {
    "name": "ipython",
    "version": 3
   },
   "file_extension": ".py",
   "mimetype": "text/x-python",
   "name": "python",
   "nbconvert_exporter": "python",
   "pygments_lexer": "ipython3",
   "version": "3.10.5"
  }
 },
 "nbformat": 4,
 "nbformat_minor": 2
}
